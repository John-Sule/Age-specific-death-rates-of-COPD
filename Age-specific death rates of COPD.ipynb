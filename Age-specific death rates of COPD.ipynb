{
 "cells": [
  {
   "cell_type": "markdown",
   "id": "769f9ec2-9651-40f7-8038-fe578452b7ba",
   "metadata": {},
   "source": [
    "### Summary of Work Process\n",
    "\n",
    "In this script, I calculated both the crude death rate and the age-standardized death rate for chronic obstructive pulmonary disease (COPD) in the United States and Uganda for the year 2019. The process involves several steps. First, I loaded the age-specific death rate data for COPD in both countries. I then calculated the crude death rate by summing the age-specific death rates for each country.\n",
    "\n",
    "For the age-standardized death rate, I utilized the WHO World Standard Population distribution to calculate the weighted sum for each age group. This involved multiplying the death rates for each age group by the corresponding percentage distribution in the WHO standard population. The weighted sums were then divided by the total population of each country to obtain the age-standardized death rate per 100,000 people.\n",
    "\n",
    "I got the total population data of both nations from the resources provided. The differences between the crude death rates and age-standardized death rates can be attributed to population age distributions. The crude death rate reflects the actual death rate without adjusting for differences in age distributions between populations. On the other hand, the age-standardized death rate accounts for variations in age distributions, providing a more accurate comparison between populations with different age structures. Age-standardization allows for a fair comparison by removing the effect of age as a confounding variable, enabling us to assess the true impact of COPD on mortality rates across different populations."
   ]
  },
  {
   "cell_type": "code",
   "execution_count": null,
   "id": "1b2f8060-efb3-4b95-adb2-cd337f64b15e",
   "metadata": {},
   "outputs": [],
   "source": []
  },
  {
   "cell_type": "code",
   "execution_count": 1,
   "id": "8c762f0e-a656-4606-94d2-9e21de4b96f3",
   "metadata": {},
   "outputs": [
    {
     "name": "stdout",
     "output_type": "stream",
     "text": [
      "Data loaded successfully!\n",
      "US DataFrame:\n",
      "  Age Group (years)  Death rate per 100,000 (United States, 2019)\n",
      "0               0-4                                          0.04\n",
      "1               5-9                                          0.02\n",
      "2             10-14                                          0.02\n",
      "3             15-19                                          0.02\n",
      "4             20-24                                          0.06\n",
      "\n",
      "Uganda DataFrame:\n",
      "  Age Group (years)  Death rate per 100,000 (Uganda, 2019)\n",
      "0               0-4                                   0.40\n",
      "1               5-9                                   0.17\n",
      "2             10-14                                   0.07\n",
      "3             15-19                                   0.23\n",
      "4             20-24                                   0.38\n"
     ]
    }
   ],
   "source": [
    "import pandas as pd\n",
    "\n",
    "# Load the table of age-specific death rates of COPD for the United States and Uganda\n",
    "us_data = {\n",
    "    'Age Group (years)': ['0-4', '5-9', '10-14', '15-19', '20-24', '25-29', '30-34', '35-39', '40-44', '45-49',\n",
    "                          '50-54', '55-59', '60-64', '65-69', '70-74', '75-79', '80-84', '85+'],\n",
    "    'Death rate per 100,000 (United States, 2019)': [0.04, 0.02, 0.02, 0.02, 0.06, 0.11, 0.29, 0.56, 1.42, 4.00,\n",
    "                                                      14.13, 37.22, 66.48, 108.66, 213.10, 333.06, 491.10, 894.45]\n",
    "}\n",
    "\n",
    "uganda_data = {\n",
    "    'Age Group (years)': ['0-4', '5-9', '10-14', '15-19', '20-24', '25-29', '30-34', '35-39', '40-44', '45-49',\n",
    "                          '50-54', '55-59', '60-64', '65-69', '70-74', '75-79', '80-84', '85+'],\n",
    "    'Death rate per 100,000 (Uganda, 2019)': [0.40, 0.17, 0.07, 0.23, 0.38, 0.40, 0.75, 1.11, 2.04, 5.51,\n",
    "                                               13.26, 33.25, 69.62, 120.78, 229.88, 341.06, 529.31, 710.40]\n",
    "}\n",
    "\n",
    "# Create DataFrames\n",
    "dth_us = pd.DataFrame(us_data)\n",
    "dth_ug = pd.DataFrame(uganda_data)\n",
    "\n",
    "# Check data integrity\n",
    "print(\"Data loaded successfully!\")\n",
    "print(\"US DataFrame:\")\n",
    "print(dth_us.head())\n",
    "print(\"\\nUganda DataFrame:\")\n",
    "print(dth_ug.head())"
   ]
  },
  {
   "cell_type": "code",
   "execution_count": 2,
   "id": "8b08d776-0da9-4a8f-b87a-af97f0066248",
   "metadata": {},
   "outputs": [
    {
     "name": "stdout",
     "output_type": "stream",
     "text": [
      "Crude Death Rate (CDR) for United States in 2019: 0.6\n"
     ]
    }
   ],
   "source": [
    "# Population of the United States in 2019 (estimated) according to UN World Population Prospects (2022) — Population Estimates 1950-2021\n",
    "us_population_2019 = 334320000\n",
    "\n",
    "# Calculate the total deaths in the United States in 2019\n",
    "total_deaths_us = sum(dth_us[\"Death rate per 100,000 (United States, 2019)\"])\n",
    "\n",
    "# Calculate the Crude Death Rate (CDR) for the United States in 2019\n",
    "crude_death_rate_us = round((total_deaths_us / us_population_2019) * 100000, 1)\n",
    "\n",
    "# Output the calculated Crude Death Rate (CDR) for the United States in 2019\n",
    "print(\"Crude Death Rate (CDR) for United States in 2019:\", crude_death_rate_us)"
   ]
  },
  {
   "cell_type": "code",
   "execution_count": 3,
   "id": "2a23b0b0-f56f-4ed7-9fad-f1b6a9e90dee",
   "metadata": {},
   "outputs": [
    {
     "name": "stdout",
     "output_type": "stream",
     "text": [
      "Crude Death Rate (CDR) for Uganda in 2019: 0.0\n"
     ]
    }
   ],
   "source": [
    "# Population of Uganda in 2019 (estimated) according to UN World Population Prospects (2022) — Population Estimates 1950-2021\n",
    "ug_population_2019 = 42949000\n",
    "\n",
    "# Calculate the total deaths in Uganda in 2019\n",
    "total_deaths_ug = sum(dth_ug[\"Death rate per 100,000 (Uganda, 2019)\"])\n",
    "\n",
    "# Calculate the Crude Death Rate (CDR) for Uganda in 2019\n",
    "cdr_ug = round((total_deaths_ug / ug_population_2019) * 1000, 1)\n",
    "\n",
    "print(\"Crude Death Rate (CDR) for Uganda in 2019:\", cdr_ug)"
   ]
  },
  {
   "cell_type": "code",
   "execution_count": 4,
   "id": "12f97f2e-d481-45d9-ad50-58d5c6b8a29a",
   "metadata": {},
   "outputs": [
    {
     "data": {
      "text/html": [
       "<div>\n",
       "<style scoped>\n",
       "    .dataframe tbody tr th:only-of-type {\n",
       "        vertical-align: middle;\n",
       "    }\n",
       "\n",
       "    .dataframe tbody tr th {\n",
       "        vertical-align: top;\n",
       "    }\n",
       "\n",
       "    .dataframe thead th {\n",
       "        text-align: right;\n",
       "    }\n",
       "</style>\n",
       "<table border=\"1\" class=\"dataframe\">\n",
       "  <thead>\n",
       "    <tr style=\"text-align: right;\">\n",
       "      <th></th>\n",
       "      <th>Age Group (years)</th>\n",
       "      <th>WHO World Standard Pop (%)</th>\n",
       "    </tr>\n",
       "  </thead>\n",
       "  <tbody>\n",
       "    <tr>\n",
       "      <th>0</th>\n",
       "      <td>0-4</td>\n",
       "      <td>8.86</td>\n",
       "    </tr>\n",
       "    <tr>\n",
       "      <th>1</th>\n",
       "      <td>5-9</td>\n",
       "      <td>8.69</td>\n",
       "    </tr>\n",
       "    <tr>\n",
       "      <th>2</th>\n",
       "      <td>10-14</td>\n",
       "      <td>8.60</td>\n",
       "    </tr>\n",
       "    <tr>\n",
       "      <th>3</th>\n",
       "      <td>15-19</td>\n",
       "      <td>8.47</td>\n",
       "    </tr>\n",
       "    <tr>\n",
       "      <th>4</th>\n",
       "      <td>20-24</td>\n",
       "      <td>8.22</td>\n",
       "    </tr>\n",
       "  </tbody>\n",
       "</table>\n",
       "</div>"
      ],
      "text/plain": [
       "  Age Group (years)  WHO World Standard Pop (%)\n",
       "0               0-4                        8.86\n",
       "1               5-9                        8.69\n",
       "2             10-14                        8.60\n",
       "3             15-19                        8.47\n",
       "4             20-24                        8.22"
      ]
     },
     "execution_count": 4,
     "metadata": {},
     "output_type": "execute_result"
    }
   ],
   "source": [
    "import pandas as pd\n",
    "\n",
    "# Define the WHO standard population distribution\n",
    "who_distribution = {\n",
    "    'Age Group (years)': ['0-4', '5-9', '10-14', '15-19', '20-24', '25-29', '30-34', '35-39', '40-44', '45-49',\n",
    "                          '50-54', '55-59', '60-64', '65-69', '70-74', '75-79', '80-84', '85+'],\n",
    "    'WHO World Standard Pop (%)': [8.86, 8.69, 8.60, 8.47, 8.22, 7.93, 7.61, 7.15, 6.59, 6.04,\n",
    "                                    5.37, 4.55, 3.72, 2.96, 2.21, 1.52, 0.91, 0.63]\n",
    "}\n",
    "\n",
    "# Create a DataFrame for WHO standard population distribution\n",
    "sd = pd.DataFrame(who_distribution)\n",
    "\n",
    "# Display the first few rows of the DataFrame\n",
    "sd.head()"
   ]
  },
  {
   "cell_type": "code",
   "execution_count": null,
   "id": "14097e44-fa33-4992-8828-f34031296d6c",
   "metadata": {},
   "outputs": [],
   "source": []
  },
  {
   "cell_type": "code",
   "execution_count": 5,
   "id": "77c18c4f-6643-4267-8003-bae4de76e996",
   "metadata": {},
   "outputs": [
    {
     "name": "stdout",
     "output_type": "stream",
     "text": [
      "Merged DataFrame for the United States:\n",
      "  Age Group (years)  Death rate per 100,000 (United States, 2019)  \\\n",
      "0               0-4                                          0.04   \n",
      "1               5-9                                          0.02   \n",
      "2             10-14                                          0.02   \n",
      "3             15-19                                          0.02   \n",
      "4             20-24                                          0.06   \n",
      "\n",
      "   WHO World Standard Pop (%)  \n",
      "0                        8.86  \n",
      "1                        8.69  \n",
      "2                        8.60  \n",
      "3                        8.47  \n",
      "4                        8.22  \n",
      "\n",
      "Merged DataFrame for Uganda:\n",
      "  Age Group (years)  Death rate per 100,000 (Uganda, 2019)  \\\n",
      "0               0-4                                   0.40   \n",
      "1               5-9                                   0.17   \n",
      "2             10-14                                   0.07   \n",
      "3             15-19                                   0.23   \n",
      "4             20-24                                   0.38   \n",
      "\n",
      "   WHO World Standard Pop (%)  \n",
      "0                        8.86  \n",
      "1                        8.69  \n",
      "2                        8.60  \n",
      "3                        8.47  \n",
      "4                        8.22  \n"
     ]
    }
   ],
   "source": [
    "# Merge death rate and standard population DataFrames on 'Age Group (years)'\n",
    "us_df = pd.merge(dth_us, sd, on='Age Group (years)')\n",
    "ug_df = pd.merge(dth_ug, sd, on='Age Group (years)')\n",
    "\n",
    "# Print the first few rows of the merged DataFrames\n",
    "print(\"Merged DataFrame for the United States:\")\n",
    "print(us_df.head())\n",
    "\n",
    "print(\"\\nMerged DataFrame for Uganda:\")\n",
    "print(ug_df.head())"
   ]
  },
  {
   "cell_type": "code",
   "execution_count": null,
   "id": "64c9b0d5-317e-40e5-8ea6-e8b203f9eb70",
   "metadata": {},
   "outputs": [],
   "source": []
  },
  {
   "cell_type": "code",
   "execution_count": 6,
   "id": "24a66756-1e64-40ec-ba8a-6989055a5c5f",
   "metadata": {},
   "outputs": [
    {
     "name": "stdout",
     "output_type": "stream",
     "text": [
      "Age-Standardized Death Rate (ASDR) for the United States: 0.0\n",
      "Age-Standardized Death Rate (ASDR) for Uganda: 0.1\n"
     ]
    }
   ],
   "source": [
    "# Calculate the weighted sum of death rates\n",
    "us_weighted_sum = sum(us_df['Death rate per 100,000 (United States, 2019)'] * us_df['WHO World Standard Pop (%)'] / 100)\n",
    "ug_weighted_sum = sum(ug_df['Death rate per 100,000 (Uganda, 2019)'] * ug_df['WHO World Standard Pop (%)'] / 100)\n",
    "\n",
    "# Calculate Age-Standardized Death Rate - ASDR\n",
    "us_asdr = round(((us_weighted_sum / us_population_2019) * 100000),1)\n",
    "ug_asdr = round(((ug_weighted_sum / ug_population_2019) * 100000),1)\n",
    "\n",
    "# Print Age-Standardized Death Rates\n",
    "print(\"Age-Standardized Death Rate (ASDR) for the United States:\", us_asdr)\n",
    "print(\"Age-Standardized Death Rate (ASDR) for Uganda:\", ug_asdr)"
   ]
  },
  {
   "cell_type": "code",
   "execution_count": null,
   "id": "c7b8774c-1154-4184-967b-bbca697cd373",
   "metadata": {},
   "outputs": [],
   "source": []
  },
  {
   "cell_type": "code",
   "execution_count": 7,
   "id": "40a60b93-ddc7-4616-abb6-06e8fbc573f8",
   "metadata": {},
   "outputs": [
    {
     "data": {
      "image/png": "[encoded data removed]",
      "text/plain": [
       "<Figure size 1400x600 with 1 Axes>"
      ]
     },
     "metadata": {},
     "output_type": "display_data"
    }
   ],
   "source": [
    "# for data visualization or comparison between the data on Uganda and the United States\n",
    "\n",
    "import matplotlib.pyplot as plt\n",
    "\n",
    "# Plotting the age-specific death rates for the United States and Uganda\n",
    "plt.figure(figsize=(14, 6))\n",
    "\n",
    "age_groups = dth_us['Age Group (years)']\n",
    "\n",
    "us_death_rates = dth_us['Death rate per 100,000 (United States, 2019)']\n",
    "\n",
    "ug_death_rates = dth_ug['Death rate per 100,000 (Uganda, 2019)']\n",
    "\n",
    "plt.plot(age_groups, us_death_rates, label='US Death Rates')\n",
    "plt.plot(age_groups, ug_death_rates, label='Uganda Death Rates')\n",
    "\n",
    "plt.xlabel('Age Group')\n",
    "plt.ylabel('Death Rate per 100,000')\n",
    "plt.title('Age-Specific Death Rates')\n",
    "\n",
    "plt.legend()\n",
    "plt.grid(True)\n",
    "plt.show()"
   ]
  },
  {
   "cell_type": "markdown",
   "id": "d58169a4-7124-4df0-b5f8-6bcba9bbf044",
   "metadata": {},
   "source": [
    "#### OBSERVATION\n",
    "\n",
    "The above viz does help us infer or make the following deductions;\n",
    "\n",
    "- The death rate increases across the age groups, as persons get older.\n",
    "- The US has a slighter higher death rate than Uganda, probably from being the larger country by population, aside from other factors."
   ]
  },
  {
   "cell_type": "code",
   "execution_count": null,
   "id": "9e2d5b16-4862-47bd-9907-afd66af1080e",
   "metadata": {},
   "outputs": [],
   "source": []
  },
  {
   "cell_type": "code",
   "execution_count": null,
   "id": "c2ee1a7c-ef0d-4ea5-91ce-dd5ffed9eba8",
   "metadata": {},
   "outputs": [],
   "source": []
  }
 ],
 "metadata": {
  "kernelspec": {
   "display_name": "Python 3 (ipykernel)",
   "language": "python",
   "name": "python3"
  },
  "language_info": {
   "codemirror_mode": {
    "name": "ipython",
    "version": 3
   },
   "file_extension": ".py",
   "mimetype": "text/x-python",
   "name": "python",
   "nbconvert_exporter": "python",
   "pygments_lexer": "ipython3",
   "version": "3.11.5"
  }
 },
 "nbformat": 4,
 "nbformat_minor": 5
}
